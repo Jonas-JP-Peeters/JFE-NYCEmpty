{
 "cells": [
  {
   "cell_type": "code",
   "execution_count": 1,
   "id": "unlimited-board",
   "metadata": {},
   "outputs": [],
   "source": [
    "import pandas as pd\n",
    "import matplotlib.pyplot as plt\n",
    "import binscatter\n",
    "import numpy as np\n",
    "import os\n",
    "import pickle\n",
    "import pyproj\n",
    "from shapely.geometry import Point\n",
    "import censusdata as cd\n",
    "import geopandas as gpd\n",
    "from pandas._libs.lib import is_integer\n",
    "import regex as re\n",
    "import statsmodels.api as sm\n",
    "from sklearn.metrics import mean_absolute_error\n",
    "from statsmodels.graphics.regressionplots import abline_plot, plot_fit"
   ]
  },
  {
   "cell_type": "markdown",
   "id": "honest-moisture",
   "metadata": {},
   "source": [
    "### Figure 1 - Rent and Price Gradients across top 30 MSAs\n",
    "See STATA Code"
   ]
  },
  {
   "cell_type": "markdown",
   "id": "instrumental-compatibility",
   "metadata": {},
   "source": [
    "### Figure 2 - Price and Rent Growth, NYC and SF"
   ]
  },
  {
   "cell_type": "code",
   "execution_count": 2,
   "id": "identified-angola",
   "metadata": {},
   "outputs": [],
   "source": [
    "msa_city_halls = {\n",
    "    \"New York-Newark-Jersey City, NY-NJ-PA\": Point(-73.97735818122587, 40.75360363043727),\n",
    "    \"Los Angeles-Long Beach-Anaheim, CA\": Point(-118.24252459246136, 34.05460218452133),\n",
    "    \"Chicago-Naperville-Elgin, IL-IN-WI\": Point(-87.63203491924644, 41.884717076254915),\n",
    "    \"Dallas-Fort Worth-Arlington, TX\": Point(-96.80279248769227, 32.800965872868694),\n",
    "    \"Houston-The Woodlands-Sugar Land, TX\": Point(-95.36937482498811, 29.761089990716613),\n",
    "    \"Washington-Arlington-Alexandria, DC-VA-MD-WV\": Point(-77.03652980226985, 38.89785162759491),\n",
    "    \"Miami-Fort Lauderdale-Pompano Beach, FL\": Point(-80.23615723041286, 25.73577257017272),\n",
    "    \"Philadelphia-Camden-Wilmington, PA-NJ-DE-MD\": Point(-75.16351548874385, 39.953038487867026),\n",
    "    \"Atlanta-Sandy Springs-Alpharetta, GA\": Point(-84.390397844751, 33.7488895763707),\n",
    "    \"Phoenix-Mesa-Chandler, AZ\": Point(-112.07730967359518, 33.44900148985069),\n",
    "    \"Boston-Cambridge-Newton, MA-NH\": Point(-71.05800373099267, 42.3605486787696),\n",
    "    \"San Francisco-Oakland-Berkeley, CA\": Point(-122.41924170230465, 37.77946153559538),\n",
    "    \"Riverside-San Bernardino-Ontario, CA\": Point(-117.37553547358051, 33.980732883142146),\n",
    "    \"Detroit-Warren-Dearborn, MI\": Point(-83.04382800215781, 42.3297768018276),\n",
    "    \"Seattle-Tacoma-Bellevue, WA\": Point(-122.32993003265794, 47.60409149522296),\n",
    "    \"Minneapolis-St. Paul-Bloomington, MN-WI\": Point(-93.26543833090201, 44.977478004204215),\n",
    "    \"San Diego-Chula Vista-Carlsbad, CA\": Point(-117.10765111313297, 32.675450648815755),\n",
    "    \"Tampa-St. Petersburg-Clearwater, FL\": Point(-82.45727419909451, 27.952274038205715),\n",
    "    \"Denver-Aurora-Lakewood, CO\": Point(-104.99079680224305, 39.73932033012998),\n",
    "    \"St. Louis, MO-IL\": Point(-90.19954729857595, 38.62786882898026),\n",
    "    \"Baltimore-Columbia-Towson, MD\": Point(-76.6101482594712, 39.29152536367409),\n",
    "    \"Charlotte-Concord-Gastonia, NC-SC\": Point(-80.83797995283503, 35.22253748266689),\n",
    "    \"Orlando-Kissimmee-Sanford, FL\": Point(-81.37953479478388, 28.538635949167848),\n",
    "    \"San Antonio-New Braunfels, TX\": Point(-98.4951415720483, 29.42473466610585),\n",
    "    \"Portland-Vancouver-Hillsboro, OR-WA\": Point(-122.67919403198559, 45.515883523179866),\n",
    "    \"Sacramento-Roseville-Folsom, CA\": Point(-121.49333111762331, 38.58271161629985),\n",
    "    \"Pittsburgh, PA\": Point(-79.99659636546517, 40.44023678221106),\n",
    "    \"Las Vegas-Henderson-Paradise, NV\": Point(-115.14855607536857, 36.16747408209834),\n",
    "    \"Austin-Round Rock-Georgetown, TX\": Point(-97.74713291785895, 30.265186279240133),\n",
    "    \"Cincinnati, OH-KY-IN\": Point(-84.51909611760684, 39.10446774409015),\n",
    "    \"Cleveland-Elyria, OH\": Point(-81.6930476140442, 41.5053277050308),\n",
    "    \"Kansas City, MO-KS\": Point(-94.578285730115, 39.1010737646118),\n",
    "    \"Columbus, OH\": Point(-83.0024547595931, 39.9637007958694),\n",
    "    \"Indianapolis-Carmel-Anderson, IN\": Point(-86.1527214971812, 39.7721604823431),\n",
    "    \"San Jose-Sunnyvale-Santa Clara, CA\": Point(-121.884315873927, 37.3379980099373),\n",
    "    \"Virginia Beach-Norfolk-Newport News, VA-NC\": Point(-76.0558554165705, 36.7529078409642),\n",
    "    \"Nashville-Davidson--Murfreesboro--Franklin, TN\": Point(-86.7662065918226, 36.1719947399064),\n",
    "    \"Providence-Warwick, RI-MA\": Point(-71.412318525675, 41.8242118708439),\n",
    "    \"Milwaukee-Waukesha, WI\": Point(-87.9095751962868, 43.0419137098374),\n",
    "    \"Jacksonville, FL\": Point(-81.6609781752069, 30.3756071265681),\n",
    "    \"Memphis, TN-MS-AR\": Point(-90.0525006455091, 35.1571305205873),\n",
    "    \"Oklahoma City, OK\": Point(-97.5201902178872, 35.4691695406864),\n",
    "    \"Hartford-East Hartford-Middletown, CT\": Point(-72.6709678916762, 41.7641327640195),\n",
    "    \"Louisville/Jefferson County, KY-IN\": Point(-85.7605710596327, 38.2548592792082),\n",
    "    \"New Orleans-Metairie, LA\": Point(-90.0766333463257, 29.9537839928333),\n",
    "    \"Richmond, VA\": Point(-77.4317698778892, 37.5414041880906),\n",
    "    \"Buffalo-Cheektowaga, NY\": Point(-78.8789065772405, 42.8867608775758),\n",
    "    \"Raleigh-Cary, NC\": Point(-78.6428638281766, 35.7788111341718),\n",
    "    \"Salt Lake City, UT\": Point(-111.887360818175, 40.7661353706654),\n",
    "    \"Rochester, NY\": Point(-77.6141558833138, 43.1571105088485),\n",
    "    \"Birmingham-Hoover, AL\": Point(-86.8100188707269, 33.529068145948),\n",
    "    \"Grand Rapids-Kentwood, MI\": Point(-85.6710991751044, 42.9757472987403),\n",
    "    \"Tucson, AZ\": Point(-110.97295530836, 32.2231612404127),\n",
    "    \"Urban Honolulu, HI\": Point(-157.857410100852, 21.3095473693441),\n",
    "    \"Tulsa, OK\": Point(-95.9901218815961, 36.1576899024592),\n",
    "    \"Fresno, CA\": Point(-119.783643958335, 36.7399589236356),\n",
    "    \"Worcester, MA-CT\": Point(-71.8012264542394, 42.2628940064412),\n",
    "    \"Bridgeport-Stamford-Norwalk, CT\": Point(-73.1923457029622, 41.1806689168382),\n",
    "    \"Albuquerque, NM\": Point(-106.65184220209, 35.0917980651784),\n",
    "    \"Albany-Schenectady-Troy, NY\": Point(-73.7543872000024, 42.6519510059115),\n",
    "    \"Omaha-Council Bluffs, NE-IA\": Point(-95.9373610092953, 41.2597924597602),\n",
    "    \"New Haven-Milford, CT\": Point(-72.9249732759824, 41.3100898957712),\n",
    "    \"Bakersfield, CA\": Point(-119.019787756511, 35.3732062493274),\n",
    "    \"Baton Rouge, LA\": Point(-91.1890544687199, 30.4554774662898),\n",
    "    \"Greenville-Anderson, SC\": Point(-82.3951555110306, 34.8566630853142),\n",
    "    \"Oxnard-Thousand Oaks-Ventura, CA\": Point(-119.181614727174, 34.203202717367),\n",
    "    \"Allentown-Bethlehem-Easton, PA-NJ\": Point(-75.4667009116915, 40.6040190197423),\n",
    "    \"Knoxville, TN\": Point(-83.9158075433303, 35.968663057639),\n",
    "    \"El Paso, TX\": Point(-106.484682158435, 31.7619967235255),\n",
    "    \"Dayton-Kettering, OH\": Point(-84.1933035680526, 39.7598257315708),\n",
    "    \"McAllen-Edinburg-Mission, TX\": Point(-98.2390646772491, 26.301782579367),\n",
    "    \"Columbia, SC\": Point(-81.0371440198162, 34.0107137654275),\n",
    "    \"North Port-Sarasota-Bradenton, FL\": Point(-82.2069803886827, 27.0754528684216),\n",
    "    \"Charleston-North Charleston, SC\": Point(-80.012286644401, 32.8757024464949),\n",
    "    \"San Juan-Bayamón-Caguas, PR\": Point(-66.116313035346, 18.4657257515783)\n",
    "}"
   ]
  },
  {
   "cell_type": "code",
   "execution_count": 3,
   "id": "major-projector",
   "metadata": {},
   "outputs": [],
   "source": [
    "# Define the MSA centers using the location of their City Halls (Grand Central Station for NYC)\n",
    "df = pd.read_stata(r\"..\\Data\\Intermediate\\grad.dta\")\n",
    "\n",
    "df = df.loc[\n",
    "    (df['cbsa'].isin([\"New York-Newark-Jersey City, NY-NJ-PA\", \"San Francisco-Oakland-Berkeley, CA\"])) &\n",
    "    (df['month'].isin([\"2019-12-01\", \"2020-12-01\"])),\n",
    "    ['zip', 'month', 'ZORI_', 'ZHVI_']\n",
    "]\n",
    "\n",
    "df['ZORI_log'] = np.log(df['ZORI_'])\n",
    "df['ZHVI_log'] = np.log(df['ZHVI_'])\n",
    "df['log_change_zori'] = df.sort_values(by = ['zip', 'month']).groupby('zip')['ZORI_log'].diff()\n",
    "df['log_change_zhvi'] = df.sort_values(by = ['zip', 'month']).groupby('zip')['ZHVI_log'].diff()\n",
    "\n",
    "df = df \\\n",
    "    .sort_values(by = 'zip') \\\n",
    "    .reset_index(drop = True)\n",
    "\n",
    "zillow = df \\\n",
    "    .loc[df['month'] == '2020-12-01',\n",
    "         ['zip', 'log_change_zori', 'log_change_zhvi']]\n",
    "\n",
    "# Load the geographic data\n",
    "zips = gpd.read_file(r\"..\\Data\\Source\\USA_ZIPS.geojson\") \\\n",
    "    .rename(columns = {'zip': 'ZIP'})\n",
    "\n",
    "# Load the ZIP-County crosswalk file\n",
    "cross = pd.read_excel(r\"..\\Data\\Source\\ZIP_COUNTY_032020.xlsx\")\n",
    "cross['ZIP'] = cross.ZIP.astype(str).str.zfill(5)\n",
    "cross['COUNTY'] = cross.COUNTY.astype(str).str.zfill(5)\n",
    "cross = cross.merge(cross.groupby('ZIP') \\\n",
    "                         .agg('max') \\\n",
    "                         .rename(columns = {\"TOT_RATIO\": \"MAX\"}) \\\n",
    "                         .reset_index()[['ZIP', 'MAX']],\n",
    "                    how = 'left',\n",
    "                    on = 'ZIP')\n",
    "cross = cross[cross.MAX == cross.TOT_RATIO] \\\n",
    "    .drop(columns = ['RES_RATIO', 'BUS_RATIO', 'OTH_RATIO', 'TOT_RATIO', 'MAX']) \\\n",
    "    .rename(columns = {'COUNTY': 'FIPS'})\n",
    "\n",
    "# Read in the CBSA definitions from the Census Bureau\n",
    "df = pd.read_excel(r\"..\\Data\\Source\\CBSAs.xls\",\n",
    "                   skiprows = 2) \\\n",
    "    .rename(columns = {'CBSA Title': 'CBSA', \n",
    "                       'County/County Equivalent': 'county', \n",
    "                       'State Name': 'state',\n",
    "                       'Central/Outlying County': 'peripheral',\n",
    "                       'Metropolitan/Micropolitan Statistical Area': 'type'})\n",
    "df['FIPS State Code'] = df['FIPS State Code'].fillna(0).astype(int).astype(str).str.zfill(2)\n",
    "df['FIPS County Code'] = df['FIPS County Code'].fillna(0).astype(int).astype(str).str.zfill(3)\n",
    "df['FIPS'] = df['FIPS State Code'] + df['FIPS County Code']\n",
    "df['peripheral'] = (df['peripheral'] != \"Central\")\n",
    "df['type'] = np.where(df['type']=='Metropolitan Statistical Area', 'metro', 'micro')\n",
    "df = df[['CBSA', 'type', 'county', 'state', 'peripheral', 'FIPS']] \\\n",
    "    .dropna() \\\n",
    "    .merge(cross,\n",
    "           how = 'left',\n",
    "           on = 'FIPS') \\\n",
    "    .merge(zips,\n",
    "           how = 'left',\n",
    "           on = 'ZIP')\n",
    "gdf = gpd.GeoDataFrame(df, geometry = df.geometry, crs = \"epsg:4326\")\n",
    "gdf = gdf[~gdf.geometry.isna()]\n",
    "gdf = gdf.to_crs(epsg = 3857)\n",
    "gdf['center'] = gdf.geometry.centroid\n",
    "\n",
    "gdf = gdf \\\n",
    "    .merge(zillow, left_on = 'ZIP', right_on = 'zip', how = 'left') \\\n",
    "    .dropna(subset = ['log_change_zori', 'log_change_zhvi'], how = 'all')\n",
    "\n",
    "with open(r'..\\Data\\Intermediate\\fig2_data.pickle', 'wb') as handle:\n",
    "    pickle.dump(gdf, handle, protocol=pickle.HIGHEST_PROTOCOL)\n",
    "\n",
    "# Define the MSA centers using the location of their City Halls (Grand Central Station for NYC)\n",
    "MSA_OI = {\n",
    "    \"New York-Newark-Jersey City, NY-NJ-PA\": \"New York City\",\n",
    "    \"San Francisco-Oakland-Berkeley, CA\": \"San Francisco\"\n",
    "}\n",
    "\n",
    "# Load the centers by using the City Hall location\n",
    "msa_centers = pd.DataFrame(msa_city_halls.items(), columns=['CBSA', 'city_center'])\n",
    "msa_centers = gpd.GeoDataFrame(msa_centers, geometry = msa_centers.city_center, crs = \"epsg:4326\")\n",
    "msa_centers = msa_centers \\\n",
    "    .to_crs(epsg = 3857) \\\n",
    "    .drop(columns = ['city_center']) \\\n",
    "    .rename(columns = {\"geometry\": 'city_center'})\n",
    "msa_centers = dict(zip(msa_centers.CBSA,msa_centers.city_center))\n",
    "\n",
    "with open(r'..\\Data\\Intermediate\\msa_centers.pickle', 'wb') as handle:\n",
    "    pickle.dump(msa_centers, handle, protocol=pickle.HIGHEST_PROTOCOL)"
   ]
  },
  {
   "cell_type": "markdown",
   "id": "integral-worcester",
   "metadata": {},
   "source": [
    "### Figure 3 - Pandemic Induced Changes in Prices and Rents\n",
    "No prep needed"
   ]
  },
  {
   "cell_type": "markdown",
   "id": "leading-vampire",
   "metadata": {},
   "source": [
    "### Figure 4 - Robustness in Bid-Rent Curve Estimation Across Price\n",
    "See STATA Code"
   ]
  },
  {
   "cell_type": "markdown",
   "id": "mineral-morgan",
   "metadata": {},
   "source": [
    "### Figure 5 - MSA level Changes in Price and Rent Gradients"
   ]
  },
  {
   "cell_type": "code",
   "execution_count": 4,
   "id": "concerned-innocent",
   "metadata": {},
   "outputs": [],
   "source": [
    "df = pd.read_stata(r\"..\\Data\\Intermediate\\grad.dta\")\n",
    "\n",
    "df = df[['n', 'cbsa', 'pop_2019']] \\\n",
    "    .drop_duplicates(subset = ['n', 'cbsa']) \\\n",
    "    .dropna()\n",
    "\n",
    "df3 = pd.read_stata(r\"..\\Data\\Intermediate\\coef.dta\")\n",
    "\n",
    "df3 = df3[df3['yvar'].isin(['zhvi_zoriav', 'zori_zoriav'])]\n",
    "df3['pre'] = (df3['month'] == '2019-12-01')\n",
    "df3['post'] = (df3['month'] == '2020-12-01')\n",
    "df3 = df3[(df3['pre'] | df3['post']) & (df3['n'] <= 30)]\n",
    "\n",
    "df3 = df3.pivot(index = 'n', columns = ['month', 'yvar'], values = 'coef_dist_log').reset_index()\n",
    "\n",
    "df3.columns = ['n', 'pre_zhvi', 'post_zhvi', 'pre_zori', 'post_zori']\n",
    "\n",
    "df3['delta_grad_zhvi'] = df3['post_zhvi'] - df3['pre_zhvi']\n",
    "df3['delta_grad_zori'] = df3['post_zori'] - df3['pre_zori']\n",
    "\n",
    "with open(r'..\\Data\\Intermediate\\msa_centers.pickle', 'rb') as handle:\n",
    "    msa_centers = pickle.load(handle)\n",
    "\n",
    "msa_centers = pd.Series(msa_centers).to_frame().reset_index().rename(columns = {'index': 'cbsa', 0: 'geometry'})\n",
    "msa_centers = gpd.GeoDataFrame(msa_centers, crs = \"EPSG:3857\")\n",
    "msa_centers['cbsa'] = msa_centers['cbsa']#.str.replace(\" \", \"_\")\n",
    "\n",
    "cbsa_grad = df3 \\\n",
    "    .merge(df, on = 'n', how = 'left') \\\n",
    "    .merge(msa_centers, on = 'cbsa', how = 'left')\n",
    "\n",
    "cbsa_grad['marker_size'] = cbsa_grad['pop_2019']/1000000*50\n",
    "\n",
    "cbsa_grad = gpd.GeoDataFrame(cbsa_grad, geometry = 'geometry')\n",
    "\n",
    "with open(r'..\\Data\\Intermediate\\fig5_data.pickle', 'wb') as handle:\n",
    "    pickle.dump(cbsa_grad, handle, protocol=pickle.HIGHEST_PROTOCOL)"
   ]
  },
  {
   "cell_type": "markdown",
   "id": "mineral-camel",
   "metadata": {},
   "source": [
    "### Figure 6 - Changes in Listing Prices and Market Inventory\n",
    "No prep needed"
   ]
  },
  {
   "cell_type": "markdown",
   "id": "consistent-policy",
   "metadata": {},
   "source": [
    "### Figure 7 - Price Change against Changes in Inventory\n",
    "No prep needed"
   ]
  },
  {
   "cell_type": "markdown",
   "id": "recovered-testing",
   "metadata": {},
   "source": [
    "### Figure 8 - Associations of Intracity Migration"
   ]
  },
  {
   "cell_type": "markdown",
   "id": "disabled-restaurant",
   "metadata": {},
   "source": [
    "### Figure 9 - Out-Migration Rates Using VenPath Data\n",
    "No prep needed"
   ]
  },
  {
   "cell_type": "markdown",
   "id": "orange-avatar",
   "metadata": {},
   "source": [
    "### Figure 10 - Out-Migration Rates Using Infutor Data\n",
    "No prep needed"
   ]
  },
  {
   "cell_type": "markdown",
   "id": "miniature-bloom",
   "metadata": {},
   "source": [
    "### Figure 11 - Price-Rent Ratio against Distance for New York\n",
    "No prep needed"
   ]
  },
  {
   "cell_type": "markdown",
   "id": "defensive-balance",
   "metadata": {},
   "source": [
    "### Figure 12 - Changes in Rent and Price Growth Rates\n",
    "No prep needed"
   ]
  },
  {
   "cell_type": "markdown",
   "id": "encouraging-piece",
   "metadata": {},
   "source": [
    "### Figure A1 - Bid-rent Functions for San Francisco and New York"
   ]
  },
  {
   "cell_type": "markdown",
   "id": "alpine-nylon",
   "metadata": {},
   "source": [
    "### Figure A2 -  Changes in Bid-rent function"
   ]
  },
  {
   "cell_type": "markdown",
   "id": "acknowledged-trinity",
   "metadata": {},
   "source": [
    "### Figure A3 - Changes in Rents and Prices Against Pre-Pandemic Levels"
   ]
  },
  {
   "cell_type": "markdown",
   "id": "severe-mother",
   "metadata": {},
   "source": [
    "### Figure A4 - Pandemic Induced Changes in Prices and Rents without Sample Restrictions"
   ]
  },
  {
   "cell_type": "markdown",
   "id": "fifty-tobago",
   "metadata": {},
   "source": [
    "### Figure A5 - Changes in Listing Prices and Market Inventory without Sample Restrictions"
   ]
  },
  {
   "cell_type": "markdown",
   "id": "pending-forge",
   "metadata": {},
   "source": [
    "### Figure A6 - Changes in Listing Prices and Market Inventory"
   ]
  },
  {
   "cell_type": "markdown",
   "id": "latin-desperate",
   "metadata": {},
   "source": [
    "### Figure A7 - Price change against Changes in Inventory without Sample Restrictions"
   ]
  },
  {
   "cell_type": "markdown",
   "id": "focal-celtic",
   "metadata": {},
   "source": [
    "### Figure A8 - Population Changes by Distance From Center: Nighttime Definition"
   ]
  },
  {
   "cell_type": "markdown",
   "id": "dense-baltimore",
   "metadata": {},
   "source": [
    "### Figure A9 - Associations of Intracity Migration without Sample Restrictions"
   ]
  },
  {
   "cell_type": "markdown",
   "id": "ruled-prompt",
   "metadata": {},
   "source": [
    "### Figure A10 - Migration Against Distance, Rents, and Prices"
   ]
  },
  {
   "cell_type": "markdown",
   "id": "pursuant-matthew",
   "metadata": {},
   "source": [
    "### Figure A12 - Price-Rent Ratio against Distance for New York"
   ]
  },
  {
   "cell_type": "markdown",
   "id": "a6f587d5",
   "metadata": {},
   "source": [
    "### Figure A13 - Migration Rates Pre- and Post-Pandemic"
   ]
  },
  {
   "cell_type": "markdown",
   "id": "published-excuse",
   "metadata": {},
   "source": [
    "### Figure A14 - Cumulative Rent Growth under Transitory Case for Top 30 MSAs, New York, San Francisco and Los Angeles"
   ]
  },
  {
   "cell_type": "markdown",
   "id": "expected-agreement",
   "metadata": {},
   "source": [
    "### Figure B1 - Comparing Rental Series Across Data Sets"
   ]
  },
  {
   "cell_type": "markdown",
   "id": "upper-sullivan",
   "metadata": {},
   "source": [
    "#### Panels A & B"
   ]
  },
  {
   "cell_type": "code",
   "execution_count": 10,
   "id": "liable-italy",
   "metadata": {},
   "outputs": [
    {
     "name": "stderr",
     "output_type": "stream",
     "text": [
      "C:\\Users\\lz2692\\Anaconda3\\envs\\nycempty\\lib\\site-packages\\pandas\\core\\groupby\\generic.py:303: FutureWarning: Dropping invalid columns in SeriesGroupBy.agg is deprecated. In a future version, a TypeError will be raised. Before calling .agg, select only columns which should be valid for the aggregating function.\n",
      "  results[key] = self.aggregate(func)\n"
     ]
    }
   ],
   "source": [
    "zillow = pd.read_stata(r\"..\\Data\\Intermediate\\zillow.dta\")\n",
    "\n",
    "zillow = zillow[[col for col in zillow.columns.to_list() if bool(re.match(r\"ZORI_\\d{6}\", col))] + ['zip']]\n",
    "\n",
    "zillow = zillow.melt(id_vars=[\"zip\"], var_name=\"month\", value_name=\"ZORI\")\n",
    "\n",
    "zillow['year'] = zillow['month'].str[-4:]\n",
    "\n",
    "zillow = zillow.drop(columns = ['month'])\n",
    "\n",
    "zillow = zillow.dropna(subset = ['ZORI']).groupby(['zip', 'year'])['ZORI'].agg(np.mean).reset_index()\n",
    "zillow['year'] = zillow['year'].astype(int)\n",
    "zillow = zillow.loc[zillow['year'] > 2017]\n",
    "\n",
    "distance = pd.read_csv(r\"..\\Data\\Intermediate\\MSA_distance.csv\")\n",
    "\n",
    "distance = distance[['ZIP', 'distance']] \\\n",
    "    .rename(columns = {'ZIP': 'zip'})\n",
    "\n",
    "distance['zip'] = distance['zip'].astype(str).str.zfill(5)\n",
    "\n",
    "fmr = pd.read_stata(r\"..\\Data\\Source\\FMRs.dta\")\n",
    "fmr = fmr.drop(columns = 'index').rename(columns = {'ZIP': 'zip'})\n",
    "fmr['zip'] = fmr['zip'].astype(str).str.zfill(5)\n",
    "\n",
    "acs = pd.read_csv(r\"..\\Data\\Source\\ACS5_2019_DP04_03192021.csv\", skiprows = 1)\n",
    "\n",
    "vrs_list = [\n",
    "    'id',\n",
    "    'Percent!!BEDROOMS!!Total housing units!!No bedroom',\n",
    "    'Percent!!BEDROOMS!!Total housing units!!1 bedroom',\n",
    "    'Percent!!BEDROOMS!!Total housing units!!2 bedrooms',\n",
    "    'Percent!!BEDROOMS!!Total housing units!!3 bedrooms',\n",
    "    'Percent!!BEDROOMS!!Total housing units!!4 bedrooms',\n",
    "    'Percent!!BEDROOMS!!Total housing units!!5 or more bedrooms'\n",
    "]\n",
    "acs = acs[vrs_list]\n",
    "\n",
    "acs['fips'] = acs['id'].str.extract('0500000US(\\d{5})')\n",
    "\n",
    "acs = acs.drop(columns = 'id')\n",
    "acs.columns = [f'{i}_BR' for i, col in enumerate(acs.columns.to_list()) if 'Percent' in col] + ['fips']\n",
    "\n",
    "df = pd.read_excel(r\"..\\Data\\Source\\ZIP_COUNTY_032020.xlsx\")\n",
    "\n",
    "df['zip'] = df['ZIP'].astype(str).str.zfill(5)\n",
    "\n",
    "df['fips'] = df['COUNTY'].astype(str).str.zfill(5)\n",
    "\n",
    "df = df[['TOT_RATIO', 'zip', 'fips']]\n",
    "\n",
    "wm = lambda x: np.average(x, weights = df.loc[x.index, \"TOT_RATIO\"])\n",
    "\n",
    "acs = df \\\n",
    "    .merge(acs, on = 'fips', how = 'inner') \\\n",
    "    .groupby('zip').agg(wm).reset_index() \\\n",
    "    .drop(columns = 'TOT_RATIO')\n",
    "\n",
    "fig_data = fmr \\\n",
    "    .merge(zillow, how = 'inner', on = ['zip', 'year']) \\\n",
    "    .merge(distance, how = 'inner', on = 'zip')\n",
    "fig_data['log_distance'] = np.log(1 + fig_data['distance'])\n",
    "fig_data = fig_data.drop_duplicates()\n",
    "\n",
    "fig_data = fig_data.merge(acs, on = 'zip', how = 'inner')\n",
    "fig_data['hud_fmr_comb'] = \\\n",
    "    fig_data['hud_fmr_0_br'] * fig_data['0_BR'] / 100 + \\\n",
    "    fig_data['hud_fmr_1_br'] * fig_data['1_BR'] / 100 + \\\n",
    "    fig_data['hud_fmr_2_br'] * fig_data['2_BR'] / 100 + \\\n",
    "    fig_data['hud_fmr_3_br'] * fig_data['3_BR'] / 100 + \\\n",
    "    fig_data['hud_fmr_4_br'] * (fig_data['4_BR'] + fig_data['5_BR']) / 100\n",
    "\n",
    "fig_data['std_err'] = np.abs(fig_data['hud_fmr_comb'] - fig_data['ZORI'])\n",
    "fig_data['pc_err'] = np.log(fig_data['hud_fmr_comb']) - np.log(fig_data['ZORI'])\n",
    "\n",
    "fig_data.to_csv(r'..\\Data\\Intermediate\\FMR_plotdata.csv', index = False)"
   ]
  },
  {
   "cell_type": "markdown",
   "id": "narrative-cannon",
   "metadata": {},
   "source": [
    "#### Panels C & D"
   ]
  },
  {
   "cell_type": "code",
   "execution_count": 11,
   "id": "plastic-colombia",
   "metadata": {},
   "outputs": [],
   "source": [
    "df = pd.read_stata(r\"..\\Data\\Intermediate\\zillow.dta\")\n",
    "\n",
    "df = df[['zip'] + \n",
    "        [col for col in df.columns if re.match(r\"^ZORI_\\d{6}$\", col)] +\n",
    "        [col for col in df.columns if re.match(r\"^ZHVI_\\d{6}$\", col)]]\n",
    "df = pd.wide_to_long(df, [\"ZORI_\", \"ZHVI_\"], i=\"zip\", j=\"month\").reset_index()\n",
    "df['month'] = pd.to_datetime(df['month'], format = '%m%Y').dt.to_period('M')\n",
    "df = df.rename(columns = {\"ZORI_\": \"ZORI\", \"ZHVI_\": \"ZHVI\"})\n",
    "zillow = df.copy(deep = True)\n",
    "\n",
    "get_fips = lambda row: ''.join([row['index'].params()[i][1] for i in range(3)])\n",
    "\n",
    "req_vars = {\n",
    "    'B02009_001E': \"cnt_black\", \n",
    "    'B01003_001E': \"pop\", \n",
    "    'B19001_016E': \"150-200_income\", \n",
    "    'B19001_017E': \"250-*_income\", \n",
    "    'B01002_001E': \"med_age\",\n",
    "    'B25010_001E': 'ave_hh_size',\n",
    "    'B25010_002E': 'ave_owner_hh_size',\n",
    "    'B25010_003E': 'ave_renter_hh_size',\n",
    "    'B25032_001E': 'tot_units_1',\n",
    "    'B25032_002E': 'tot_owner_units',\n",
    "    'B25032_013E': 'tot_renter_units',\n",
    "    'B25008_001E': 'tot_pop_occup',\n",
    "    'B25008_002E': \"owner_pop_occup\",\n",
    "    'B25008_003E': \"renter_pop_occup\",\n",
    "    'B06011_001E': \"med_income\",\n",
    "    'B19013_001E': \"med_hh_income\",\n",
    "    'B25031_001E': \"med_gross_rent\",\n",
    "    'B25041_001E': \"tot_units_2\",\n",
    "    'B25041_007E': \"geq_5rooms\"\n",
    "}\n",
    "\n",
    "# Download the desired variables for all tracts in the state\n",
    "cdata = cd.download('acs5', 2019,\n",
    "                    cd.censusgeo([('zip code tabulation area', '*')]),\n",
    "                    list(req_vars.keys())) \\\n",
    "    .rename(columns = req_vars) \\\n",
    "    .reset_index()\n",
    "     \n",
    "cdata = cdata.replace(-666666666.0, np.nan)\n",
    "        \n",
    "cdata = cdata[cdata['pop'] > 0].reset_index(drop = True)\n",
    "cdata['zip'] = cdata['index'].apply(lambda x: x.name).astype(str).str[-5:]\n",
    "\n",
    "cdata['cns_median_age'] = cdata['med_age']\n",
    "cdata['cns_median_income'] = cdata['med_income']\n",
    "cdata['cns_median_hh_inc'] = cdata['med_hh_income']\n",
    "cdata['cns_median_rent'] = cdata['med_gross_rent']\n",
    "cdata['cns_pop'] = cdata['pop']\n",
    "cdata['cns_leq_5_units'] = cdata['geq_5rooms']/cdata['tot_units_2']\n",
    "cdata.loc[cdata['cns_leq_5_units'] == np.inf, 'cns_leq_5_units'] = np.nan\n",
    "cdata['cns_black_ratio'] = cdata['cnt_black']/cdata['pop']\n",
    "cdata['cns_rich_ratio'] = (cdata['150-200_income'] + cdata['250-*_income'])/cdata['pop']\n",
    "cdata['cns_renter_ratio'] = cdata['tot_renter_units']/cdata['tot_units_1']\n",
    "\n",
    "cdata = cdata[[col for col in cdata.columns if 'cns' in col] + ['zip']]\n",
    "\n",
    "gdf = gpd.read_file(r\"..\\Data\\Source\\USA_ZIPS.geojson\")\n",
    "\n",
    "# Project to the North America Albers Equal Area Conic Projection\n",
    "crs = pyproj.CRS(\"\"\"PROJCS[\"North_America_Albers_Equal_Area_Conic\",\n",
    "    GEOGCS[\"GCS_North_American_1983\",\n",
    "        DATUM[\"North_American_Datum_1983\",\n",
    "            SPHEROID[\"GRS_1980\",6378137,298.257222101]],\n",
    "        PRIMEM[\"Greenwich\",0],\n",
    "        UNIT[\"Degree\",0.017453292519943295]],\n",
    "    PROJECTION[\"Albers_Conic_Equal_Area\"],\n",
    "    PARAMETER[\"False_Easting\",0],\n",
    "    PARAMETER[\"False_Northing\",0],\n",
    "    PARAMETER[\"longitude_of_center\",-96],\n",
    "    PARAMETER[\"Standard_Parallel_1\",20],\n",
    "    PARAMETER[\"Standard_Parallel_2\",60],\n",
    "    PARAMETER[\"latitude_of_center\",40],\n",
    "    UNIT[\"Meter\",1],\n",
    "    AUTHORITY[\"EPSG\",\"102008\"]]\"\"\")\n",
    "\n",
    "gdf['area'] = gdf['geometry'] \\\n",
    "    .to_crs(crs = crs) \\\n",
    "    .map(lambda p: p.area / 10**6)\n",
    "\n",
    "gdf = gdf[['zip', 'area']]\n",
    "\n",
    "dist = pd.read_csv(r\"..\\Data\\Intermediate\\MSA_distance.csv\")\n",
    "\n",
    "dist = dist[['CBSA', 'ZIP', 'distance']] \\\n",
    "    .rename(columns = {'ZIP': 'zip', 'CBSA': 'cbsa'})\n",
    "\n",
    "dist['zip'] = dist['zip'].astype(str).str.zfill(5)\n",
    "\n",
    "top_MSAs = pd.read_stata(r\"..\\Data\\Source\\top75msas.dta\")[['n', 'cbsa']]\n",
    "\n",
    "table_data = cdata \\\n",
    "    .merge(zillow, on = 'zip', how = 'inner') \\\n",
    "    .merge(dist, on = 'zip', how = 'inner') \\\n",
    "    .merge(gdf, on = 'zip', how = 'inner') \\\n",
    "    .merge(top_MSAs, on = 'cbsa', how = 'inner')\n",
    "\n",
    "table_data['log_distance'] = np.log(1 + table_data['distance'])"
   ]
  },
  {
   "cell_type": "code",
   "execution_count": 12,
   "id": "smooth-defensive",
   "metadata": {},
   "outputs": [],
   "source": [
    "table_data['cns_pop_density'] = table_data['cns_pop']/table_data['area']\n",
    "table_data['ZORI_avail'] = (table_data['ZORI'].notna())\n",
    "\n",
    "table_data['log_dist_qs'] = pd.qcut(\n",
    "        table_data.loc[table_data['ZHVI'].notna() ,'log_distance'], q = 100\n",
    "    ) \\\n",
    "    .apply(lambda x: x.mid) \\\n",
    "    .astype(float)\n",
    "\n",
    "table_data['log_dist_bins'] = pd.cut(\n",
    "        table_data.loc[table_data['ZHVI'].notna() ,'log_distance'], bins = 100\n",
    "    ) \\\n",
    "    .apply(lambda x: x.mid) \\\n",
    "    .astype(float)\n",
    "\n",
    "table_data['month'] = pd.to_datetime(table_data['month'].astype(str), format = '%Y-%m')\n",
    "table_data.to_stata(r\"..\\Data\\Intermediate\\zori_mi_analysis_data.dta\")"
   ]
  },
  {
   "cell_type": "markdown",
   "id": "equal-physics",
   "metadata": {},
   "source": [
    "#### Panels E & F"
   ]
  },
  {
   "cell_type": "markdown",
   "id": "backed-revision",
   "metadata": {},
   "source": [
    "### Figure B2 - Correlation Between CPI Rent of Primary Residence and ZORI at MSA level\n",
    "See STATA Code"
   ]
  },
  {
   "cell_type": "markdown",
   "id": "involved-postage",
   "metadata": {},
   "source": [
    "### Figure B3 - Relationship between Distance and Rentership\n",
    "No prep needed"
   ]
  },
  {
   "cell_type": "markdown",
   "id": "defensive-joshua",
   "metadata": {},
   "source": [
    "### Figure C1 - Change in Urban Minus Suburban Rent Growth Relative to Pre-Pandemic for Combination of Transitory and Permanent Regime\n",
    "See STATA Code"
   ]
  },
  {
   "cell_type": "markdown",
   "id": "greatest-philosophy",
   "metadata": {},
   "source": [
    "### Figure C2 - Evolution of Price-Rent Ratio when Pandemic is Transitory and Permanent along with a Combination of Two Regimes\n",
    "See STATA Code"
   ]
  },
  {
   "cell_type": "code",
   "execution_count": null,
   "id": "weighted-group",
   "metadata": {},
   "outputs": [],
   "source": []
  }
 ],
 "metadata": {
  "kernelspec": {
   "display_name": "nycempty",
   "language": "python",
   "name": "nycempty"
  },
  "language_info": {
   "codemirror_mode": {
    "name": "ipython",
    "version": 3
   },
   "file_extension": ".py",
   "mimetype": "text/x-python",
   "name": "python",
   "nbconvert_exporter": "python",
   "pygments_lexer": "ipython3",
   "version": "3.9.7"
  }
 },
 "nbformat": 4,
 "nbformat_minor": 5
}
