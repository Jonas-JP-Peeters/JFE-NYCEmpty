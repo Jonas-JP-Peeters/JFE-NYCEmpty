{
 "cells": [
  {
   "cell_type": "code",
   "execution_count": 1,
   "id": "available-poetry",
   "metadata": {},
   "outputs": [],
   "source": [
    "import pandas as pd\n",
    "import regex as re\n",
    "import numpy as np\n",
    "import censusdata as cd"
   ]
  },
  {
   "cell_type": "code",
   "execution_count": 4,
   "id": "adopted-phenomenon",
   "metadata": {
    "scrolled": true
   },
   "outputs": [],
   "source": [
    "get_fips = lambda row: ''.join([row['index'].params()[i][1] for i in range(3)])\n",
    "\n",
    "req_vars = {\n",
    "    'B02009_001E': \"cnt_black\", \n",
    "    'B01003_001E': \"pop\", \n",
    "    'B19001_016E': \"150-200_income\", \n",
    "    'B19001_017E': \"250-*_income\", \n",
    "    'B01002_001E': \"med_age\",\n",
    "    'B25010_001E': 'ave_hh_size',\n",
    "    'B25010_002E': 'ave_owner_hh_size',\n",
    "    'B25010_003E': 'ave_renter_hh_size',\n",
    "    'B25032_001E': 'tot_units_1',\n",
    "    'B25032_002E': 'tot_owner_units',\n",
    "    'B25032_013E': 'tot_renter_units',\n",
    "    'B25008_001E': 'tot_pop_occup',\n",
    "    'B25008_002E': \"owner_pop_occup\",\n",
    "    'B25008_003E': \"renter_pop_occup\",\n",
    "    'B06011_001E': \"med_income\",\n",
    "    'B19013_001E': \"med_hh_income\",\n",
    "    'B25031_001E': \"med_gross_rent\",\n",
    "    'B25041_001E': \"tot_units_2\",\n",
    "    'B25041_007E': \"geq_5rooms\"\n",
    "}\n",
    "\n",
    "# Download the desired variables for all ZIPs in the state\n",
    "cdata = cd.download('acs5', 2019,\n",
    "                    cd.censusgeo([('zip code tabulation area', '*')]),\n",
    "                    list(req_vars.keys())) \\\n",
    "    .rename(columns = req_vars) \\\n",
    "    .reset_index()\n",
    "     \n",
    "# Replace all missings\n",
    "cdata = cdata.replace(-666666666.0, np.nan)\n",
    "        \n",
    "# Drop ZIPs with a negative population\n",
    "cdata = cdata[cdata['pop'] > 0].reset_index(drop = True)\n",
    "cdata['zip'] = cdata['index'].apply(lambda x: x.name).astype(str).str[-5:]\n",
    "\n",
    "# Rename and calculate the final census metrics\n",
    "cdata['cns_median_age'] = cdata['med_age']\n",
    "cdata['cns_median_income'] = cdata['med_income']\n",
    "cdata['cns_median_hh_inc'] = cdata['med_hh_income']\n",
    "cdata['cns_median_rent'] = cdata['med_gross_rent']\n",
    "cdata['cns_pop'] = cdata['pop']\n",
    "cdata['cns_leq_5_units'] = cdata['geq_5rooms']/cdata['tot_units_2']\n",
    "cdata.loc[cdata['cns_leq_5_units'] == np.inf, 'cns_leq_5_units'] = np.nan\n",
    "cdata['cns_black_ratio'] = cdata['cnt_black']/cdata['pop']\n",
    "cdata['cns_rich_ratio'] = (cdata['150-200_income'] + cdata['250-*_income'])/cdata['pop']\n",
    "cdata['cns_renter_ratio'] = cdata['tot_renter_units']/cdata['tot_units_1']\n",
    "\n",
    "# Select the relevant variables and store to .dta\n",
    "cdata = cdata[[col for col in cdata.columns if 'cns' in col] + ['zip']]\n",
    "cdata.to_stata(r\"..\\Data\\Intermediate\\census.dta\", version = 119)"
   ]
  },
  {
   "cell_type": "code",
   "execution_count": 54,
   "id": "e22e2dae",
   "metadata": {},
   "outputs": [
    {
     "name": "stdout",
     "output_type": "stream",
     "text": [
      "New:\t 2014 \t\tSize:  33120\n",
      "Append:\t 2019 \t\tSize:  66240\n"
     ]
    }
   ],
   "source": [
    "# Download the population for all ZIPs over the period 2014-2019\n",
    "start = True\n",
    "for year in [2014, 2019]:\n",
    "    pop_temp = cd.download('acs5', year,\n",
    "                        cd.censusgeo([('zip code tabulation area', '*')]),\n",
    "                        ['B01003_001E']) \\\n",
    "        .rename(columns = {'B01003_001E': 'population'}) \\\n",
    "        .reset_index()\n",
    "    pop_temp['year'] = year\n",
    "    \n",
    "    if start: \n",
    "        pop_df, start = pop_temp, False\n",
    "        print(\"New:\\t\", year, \"\\t\\tSize: \", len(pop_df))\n",
    "    else: \n",
    "        pop_df = pop_df.append(pop_temp)\n",
    "        print(\"Append:\\t\", year, \"\\t\\tSize: \", len(pop_df))\n",
    "\n",
    "# Replace all missings\n",
    "pop_df = pop_df.replace(-666666666.0, np.nan)\n",
    "        \n",
    "# Drop ZIPs with a negative population\n",
    "pop_df = pop_df[pop_df['population'] > 0].reset_index(drop = True)\n",
    "pop_df['zip'] = pop_df['index'].apply(lambda x: x.name).astype(str).str[-5:]\n",
    "\n",
    "# Calculate the change in population between the ACS5-2014 and the ACS5-2019\n",
    "pop_df['log_chg'] = pop_df.groupby(\"zip\")['population'].apply(lambda x: np.log(x) - np.log(x.shift()))\n",
    "\n",
    "# Keep only the relevant variables\n",
    "pop_df \\\n",
    "    .loc[pop_df['log_chg'].notna(), ['zip', 'log_chg']] \\\n",
    "    .to_stata(r\"..\\Data\\Intermediate\\secular_pop_growth.dta\", version = 119, write_index = False)"
   ]
  },
  {
   "cell_type": "code",
   "execution_count": null,
   "id": "0cf8c8b8",
   "metadata": {},
   "outputs": [],
   "source": []
  }
 ],
 "metadata": {
  "kernelspec": {
   "display_name": "Python 3 (ipykernel)",
   "language": "python",
   "name": "python3"
  },
  "language_info": {
   "codemirror_mode": {
    "name": "ipython",
    "version": 3
   },
   "file_extension": ".py",
   "mimetype": "text/x-python",
   "name": "python",
   "nbconvert_exporter": "python",
   "pygments_lexer": "ipython3",
   "version": "3.9.7"
  }
 },
 "nbformat": 4,
 "nbformat_minor": 5
}
