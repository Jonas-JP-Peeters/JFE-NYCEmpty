{
 "cells": [
  {
   "cell_type": "code",
   "execution_count": 1,
   "id": "typical-mixture",
   "metadata": {},
   "outputs": [],
   "source": [
    "import pandas as pd\n",
    "import numpy as np\n",
    "import regex as re\n",
    "import os"
   ]
  },
  {
   "cell_type": "code",
   "execution_count": 2,
   "id": "difficult-tribune",
   "metadata": {},
   "outputs": [],
   "source": [
    "zillow_version = \"20210605\" # \"20210605\" \"20210725\" \"20210729\""
   ]
  },
  {
   "cell_type": "code",
   "execution_count": 3,
   "id": "closed-malaysia",
   "metadata": {},
   "outputs": [],
   "source": [
    "df = pd.read_csv(fr\"..\\Data\\Source\\zillow_zhvi_condo_{zillow_version}.csv\")\n",
    "\n",
    "year_drop = list(np.linspace(1996, 2013, 2013 - 1996 + 1, dtype = int))\n",
    "\n",
    "df['ZIP'] = df['RegionName']\n",
    "\n",
    "drop_cols = [col for col in df.columns[:-1].to_list() if any([bool(re.match(fr\"{year}-*\", col)) for year in year_drop])]\n",
    "df = df \\\n",
    "    .drop(columns = df.columns[:9]) \\\n",
    "    .drop(columns = drop_cols)\n",
    "\n",
    "df = df.rename(columns = {old: f\"ZHVI_condo_{old[5:7]}{old[:4]}\" for old in df.columns.to_list()})\n",
    "\n",
    "df = df.rename(columns = {\"ZHVI_condo_ZIP\": \"zip\"})\n",
    "\n",
    "df['zip'] = df['zip'].astype(str).str.zfill(5)\n",
    "df.to_stata(\"..\\Data\\Intermediate\\zillow_condo.dta\", version = 119)"
   ]
  },
  {
   "cell_type": "code",
   "execution_count": 4,
   "id": "medical-apparatus",
   "metadata": {},
   "outputs": [],
   "source": [
    "df = pd.read_csv(fr\"..\\Data\\Source\\zillow_zhvi_sfr_{zillow_version}.csv\")\n",
    "\n",
    "year_drop = list(np.linspace(1996, 2013, 2013 - 1996 + 1, dtype = int))\n",
    "\n",
    "df['ZIP'] = df['RegionName']\n",
    "\n",
    "drop_cols = [col for col in df.columns[:-1].to_list() if any([bool(re.match(fr\"{year}-*\", col)) for year in year_drop])]\n",
    "df = df \\\n",
    "    .drop(columns = df.columns[:9]) \\\n",
    "    .drop(columns = drop_cols)\n",
    "\n",
    "df = df.rename(columns = {old: f\"ZHVI_sfr_{old[5:7]}{old[:4]}\" for old in df.columns.to_list()})\n",
    "\n",
    "df = df.rename(columns = {\"ZHVI_sfr_ZIP\": \"zip\"})\n",
    "\n",
    "df['zip'] = df['zip'].astype(str).str.zfill(5)\n",
    "df.to_stata(\"..\\Data\\Intermediate\\zillow_sfr.dta\", version = 119)"
   ]
  },
  {
   "cell_type": "code",
   "execution_count": null,
   "id": "quiet-evaluation",
   "metadata": {},
   "outputs": [],
   "source": []
  },
  {
   "cell_type": "code",
   "execution_count": null,
   "id": "varying-necessity",
   "metadata": {},
   "outputs": [],
   "source": []
  }
 ],
 "metadata": {
  "kernelspec": {
   "display_name": "Python 3",
   "language": "python",
   "name": "python3"
  },
  "language_info": {
   "codemirror_mode": {
    "name": "ipython",
    "version": 3
   },
   "file_extension": ".py",
   "mimetype": "text/x-python",
   "name": "python",
   "nbconvert_exporter": "python",
   "pygments_lexer": "ipython3",
   "version": "3.9.1"
  }
 },
 "nbformat": 4,
 "nbformat_minor": 5
}
